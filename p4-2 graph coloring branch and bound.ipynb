{
 "cells": [
  {
   "cell_type": "code",
   "execution_count": 4,
   "id": "b51aadf3",
   "metadata": {},
   "outputs": [
    {
     "name": "stdout",
     "output_type": "stream",
     "text": [
      "Bipartite Graph\n"
     ]
    }
   ],
   "source": [
    "def bipartite(graph, node, visited, color, c):\n",
    "    visited[node] = 1\n",
    "    color[node] = c\n",
    "    for child in graph[node]:\n",
    "        if not visited[child]:\n",
    "            tmp = bipartite(graph, child, visited, color, c^1)\n",
    "            # ^ is xor operator if 1 then 0 if 0 then 1\n",
    "            if tmp == False:\n",
    "                return False\n",
    "        else :\n",
    "            if color[node] == color[child]:\n",
    "                return False\n",
    "    return True\n",
    "\n",
    "# ipt = [[1,2],[2,4],[4,3],[3,1],[2,5],[4,5]]\n",
    "# n=5\n",
    "ipt = [[1,2],[2,3],[3,6],[6,5],[5,4],[1,4]]\n",
    "n=6\n",
    "graph={}\n",
    "visited={}\n",
    "color={}\n",
    "# even length cycle can be colored\n",
    "# odd length cycle cannot be colored\n",
    "for i in range(1,n+1):\n",
    "    graph[i]=[]\n",
    "    visited[i]=0\n",
    "    color[i]=None\n",
    "\n",
    "for u,v in ipt:\n",
    "    graph[u].append(v)\n",
    "    graph[v].append(u)\n",
    "\n",
    "temp = (bipartite(graph,1,visited,color,0))\n",
    "\n",
    "if temp:\n",
    "    print(\"Bipartite Graph\")\n",
    "else:\n",
    "    print(\"Not Bipartite Graph\")\n",
    "\n",
    "\n",
    "\n",
    "\n",
    "\n"
   ]
  },
  {
   "cell_type": "code",
   "execution_count": null,
   "id": "837d062b",
   "metadata": {},
   "outputs": [],
   "source": []
  },
  {
   "cell_type": "code",
   "execution_count": null,
   "id": "1ff98c21",
   "metadata": {},
   "outputs": [],
   "source": []
  },
  {
   "cell_type": "code",
   "execution_count": null,
   "id": "5d963503",
   "metadata": {},
   "outputs": [],
   "source": []
  }
 ],
 "metadata": {
  "kernelspec": {
   "display_name": "Python 3",
   "language": "python",
   "name": "python3"
  },
  "language_info": {
   "codemirror_mode": {
    "name": "ipython",
    "version": 3
   },
   "file_extension": ".py",
   "mimetype": "text/x-python",
   "name": "python",
   "nbconvert_exporter": "python",
   "pygments_lexer": "ipython3",
   "version": "3.10.9"
  }
 },
 "nbformat": 4,
 "nbformat_minor": 5
}
