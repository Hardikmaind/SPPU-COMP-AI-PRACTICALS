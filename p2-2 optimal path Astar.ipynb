{
 "cells": [
  {
   "cell_type": "code",
   "execution_count": 5,
   "id": "5731c08a",
   "metadata": {},
   "outputs": [
    {
     "name": "stdout",
     "output_type": "stream",
     "text": [
      "Optimal path found!\n",
      "Ellipsis\n"
     ]
    }
   ],
   "source": [
    "from queue import PriorityQueue\n",
    "\n",
    "class GraphNode:\n",
    "    def __init__(self, state, parent=None, action=None, cost=0):\n",
    "        self.state = state\n",
    "        self.parent = parent\n",
    "        self.action = action\n",
    "        self.cost = cost\n",
    "        self.heuristic = 0\n",
    "\n",
    "    def get_total_cost(self):\n",
    "        return self.cost + self.heuristic\n",
    "\n",
    "def reconstruct_path(node):\n",
    "    path = []\n",
    "    while node:\n",
    "        path.append(node.state)\n",
    "        node = node.parent\n",
    "    return path[::-1]\n",
    "\n",
    "def find_optimal_path(start_state, goal_state):\n",
    "    start_node = GraphNode(start_state)\n",
    "    open_set = PriorityQueue()\n",
    "    open_set.put((start_node.get_total_cost(), start_node))\n",
    "\n",
    "    closed_set = set()\n",
    "\n",
    "    while not open_set.empty():\n",
    "        _, current_node = open_set.get()\n",
    "        if current_node.state == goal_state:\n",
    "            return reconstruct_path(current_node)\n",
    "\n",
    "        closed_set.add(current_node.state)\n",
    "\n",
    "        neighbors = get_neighbors(current_node.state)\n",
    "        for neighbor_state in neighbors:\n",
    "            if neighbor_state in closed_set:\n",
    "                continue\n",
    "\n",
    "            neighbor_node = GraphNode(neighbor_state, current_node, cost=current_node.cost + 1)\n",
    "            open_set.put((neighbor_node.get_total_cost(), neighbor_node))\n",
    "\n",
    "    return None\n",
    "\n",
    "# Example usage:\n",
    "def get_neighbors(state):\n",
    "    # Define how to generate neighboring states based on the current state\n",
    "    pass\n",
    "\n",
    "start_state = ...  # Define your start state\n",
    "goal_state = ...   # Define your goal state\n",
    "\n",
    "solution = find_optimal_path(start_state, goal_state)\n",
    "if solution:\n",
    "    print(\"Optimal path found!\")\n",
    "    for step in solution:\n",
    "        print(step)\n",
    "else:\n",
    "    print(\"No solution found.\")\n"
   ]
  },
  {
   "cell_type": "code",
   "execution_count": null,
   "id": "af276275",
   "metadata": {},
   "outputs": [],
   "source": []
  }
 ],
 "metadata": {
  "kernelspec": {
   "display_name": "Python 3",
   "language": "python",
   "name": "python3"
  },
  "language_info": {
   "codemirror_mode": {
    "name": "ipython",
    "version": 3
   },
   "file_extension": ".py",
   "mimetype": "text/x-python",
   "name": "python",
   "nbconvert_exporter": "python",
   "pygments_lexer": "ipython3",
   "version": "3.10.9"
  }
 },
 "nbformat": 4,
 "nbformat_minor": 5
}
