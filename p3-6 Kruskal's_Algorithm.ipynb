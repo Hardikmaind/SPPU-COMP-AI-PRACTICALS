{
 "cells": [
  {
   "cell_type": "code",
   "execution_count": 1,
   "id": "811c3d5a",
   "metadata": {},
   "outputs": [
    {
     "name": "stdout",
     "output_type": "stream",
     "text": [
      "Minimum spanning tree formed is :\n",
      "\n",
      "From 0 --> To 1  Weight ->1\n",
      "From 1 --> To 3  Weight ->1\n",
      "From 2 --> To 4  Weight ->1\n",
      "From 0 --> To 2  Weight ->2\n",
      "From 4 --> To 5  Weight ->3\n"
     ]
    }
   ],
   "source": [
    "V = 6\n",
    "E = 10\n",
    "dsuf = [-1] * V\n",
    "mst= [] * (V-1)\n",
    "edges = [[0,1,1],\n",
    "\t[1,3,1],\n",
    "\t[2,4,1],\n",
    "\t[0,2,2],\n",
    "\t[2,3,2],\n",
    "\t[3,4,2],\n",
    "\t[1,2,3],\n",
    "\t[1,4,3],\n",
    "\t[4,5,3],\n",
    "\t[3,5,4]]\n",
    "\t\n",
    "\n",
    "\t\n",
    "#printing MST\n",
    "def printmst():\n",
    "\tprint(\"Minimum spanning tree formed is :\\n\")\n",
    "\tfor edge in mst:\n",
    "\t\tprint(\"From {0} --> To {1}  Weight ->{2}\".format(edge[0], edge[1], edge[2]))\n",
    "\t\t\n",
    "\t\n",
    "#finding the absolute parent \n",
    "def find(vertex):\n",
    "\tif dsuf[vertex] == -1:\n",
    "\t\treturn vertex\n",
    "\treturn find(dsuf[vertex])\n",
    "\t\n",
    "#making union of two disjoint sets \n",
    "def union(fromP, toP):\n",
    "\tfromP = find(fromP)\n",
    "\ttoP = find(toP)\n",
    "\tdsuf[fromP] = toP\n",
    "\t\n",
    "#finds MST using Kruskal's algorithm\n",
    "def kruskals(edges, V, E):\n",
    "\tedges.sort(key=lambda x: int(x[2]))\n",
    "\ti = 0\n",
    "\tj = 0\n",
    "\twhile i<V-1 and j<E :\n",
    "\t\tfromP = find(edges[j][0])\n",
    "\t\ttoP = find(edges[j][1])\n",
    "\t\t\n",
    "\t\tif fromP == toP:\n",
    "\t\t\tj = j + 1\n",
    "\t\t\tcontinue\n",
    "\t\tunion(fromP, toP)\n",
    "\t\tmst.append(edges[j])\n",
    "\t\ti = i + 1\n",
    "\t\t\n",
    "\t\t\n",
    "kruskals(edges, V, E)\n",
    "printmst()"
   ]
  }
 ],
 "metadata": {
  "kernelspec": {
   "display_name": "Python 3 (ipykernel)",
   "language": "python",
   "name": "python3"
  },
  "language_info": {
   "codemirror_mode": {
    "name": "ipython",
    "version": 3
   },
   "file_extension": ".py",
   "mimetype": "text/x-python",
   "name": "python",
   "nbconvert_exporter": "python",
   "pygments_lexer": "ipython3",
   "version": "3.10.9"
  }
 },
 "nbformat": 4,
 "nbformat_minor": 5
}
