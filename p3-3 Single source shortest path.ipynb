{
 "cells": [
  {
   "cell_type": "code",
   "execution_count": 11,
   "id": "9a63ebfd",
   "metadata": {},
   "outputs": [
    {
     "name": "stdout",
     "output_type": "stream",
     "text": [
      "[1, 1, 2, 1, 0, 1]\n"
     ]
    }
   ],
   "source": [
    "from math import inf\n",
    "\n",
    "def Dijkstra(graph, start):\n",
    "    num_nodes = len(graph)\n",
    "    dist = [inf] * num_nodes\n",
    "    dist[start] = 0\n",
    "    visited = [False] * num_nodes\n",
    "    \n",
    "    for _ in range(num_nodes):\n",
    "        u = -1\n",
    "        for x in range(num_nodes):\n",
    "            if not visited[x] and (u == -1 or dist[x] < dist[u]):\n",
    "                u = x\n",
    "        \n",
    "        if dist[u] == inf:\n",
    "            break\n",
    "        \n",
    "        visited[u] = True\n",
    "        \n",
    "        for v in graph[u]:\n",
    "            if dist[u] + 1 < dist[v]:\n",
    "                dist[v] = dist[u] + 1\n",
    "    \n",
    "    return dist\n",
    "\n",
    "graph = {\n",
    "    0: [1, 4],\n",
    "    1: [2, 3, 4],\n",
    "    2: [1, 3, 5],\n",
    "    3: [4, 1, 2, 5],\n",
    "    4: [0, 1, 3, 5],\n",
    "    5: [2, 3, 4]\n",
    "}\n",
    "\n",
    "print(Dijkstra(graph, 4))\n"
   ]
  },
  {
   "cell_type": "code",
   "execution_count": null,
   "id": "4d4eb532",
   "metadata": {},
   "outputs": [],
   "source": []
  }
 ],
 "metadata": {
  "kernelspec": {
   "display_name": "Python 3",
   "language": "python",
   "name": "python3"
  },
  "language_info": {
   "codemirror_mode": {
    "name": "ipython",
    "version": 3
   },
   "file_extension": ".py",
   "mimetype": "text/x-python",
   "name": "python",
   "nbconvert_exporter": "python",
   "pygments_lexer": "ipython3",
   "version": "3.10.9"
  }
 },
 "nbformat": 4,
 "nbformat_minor": 5
}
