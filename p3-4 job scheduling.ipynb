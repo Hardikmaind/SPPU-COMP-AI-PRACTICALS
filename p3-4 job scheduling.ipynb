{
 "cells": [
  {
   "cell_type": "code",
   "execution_count": 2,
   "id": "dd64dec9",
   "metadata": {},
   "outputs": [
    {
     "name": "stdout",
     "output_type": "stream",
     "text": [
      "Jobs are scheduled as:\n",
      "['Job2', 'Job3', 'Job1']\n"
     ]
    }
   ],
   "source": [
    "n = 3  # number of jobs\n",
    "#  job-id , time , profit\n",
    "jobs = [['Job1', '2', '100'], ['Job2', '3', '450'], ['Job3', '3', '325']]\n",
    "# extract profit from jobs\n",
    "sorter = lambda job: int(job[2])\n",
    "# this will sort based on profit in descending order\n",
    "jobs = sorted(jobs, key=sorter, reverse=True)\n",
    "# empty array for storing scheduled jobs\n",
    "scheduled = []\n",
    "# time is zero initially\n",
    "time = 0\n",
    "# This condition checks if the current time is less than or equal to the job's deadline (accessed using i[1]). If the condition is true, the job can be scheduled.\n",
    "for i in jobs:\n",
    "    deadline =int(i[1])\n",
    "#     print(deadline)\n",
    "    jobId=i[0]\n",
    "    if time <=deadline :\n",
    "        scheduled.append(jobId)\n",
    "        time += 1\n",
    "\n",
    "print(\"Jobs are scheduled as:\")\n",
    "print(scheduled)\n"
   ]
  },
  {
   "cell_type": "code",
   "execution_count": null,
   "id": "bb054322",
   "metadata": {},
   "outputs": [],
   "source": []
  }
 ],
 "metadata": {
  "kernelspec": {
   "display_name": "Python 3",
   "language": "python",
   "name": "python3"
  },
  "language_info": {
   "codemirror_mode": {
    "name": "ipython",
    "version": 3
   },
   "file_extension": ".py",
   "mimetype": "text/x-python",
   "name": "python",
   "nbconvert_exporter": "python",
   "pygments_lexer": "ipython3",
   "version": "3.10.9"
  }
 },
 "nbformat": 4,
 "nbformat_minor": 5
}
