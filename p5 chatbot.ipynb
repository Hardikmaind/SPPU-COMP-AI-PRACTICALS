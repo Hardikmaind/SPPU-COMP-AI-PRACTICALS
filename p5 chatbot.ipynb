{
 "cells": [
  {
   "cell_type": "code",
   "execution_count": 2,
   "id": "6601a56e",
   "metadata": {},
   "outputs": [
    {
     "name": "stdout",
     "output_type": "stream",
     "text": [
      "Welcome to JioMart! How can I assist you today?\n",
      "> Product availability iPhone\n",
      "The product 'iphone' is currently available.\n",
      "> order tracking 1231\n",
      "The order with ID '1231' is out for delivery.\n",
      "> How can I contact customer support?\n",
      "For any queries or support, please reach out to our customer support at 1800-XXX-XXXX.\n",
      "> What is the price of a TV?\"\n",
      "I'm sorry, but I couldn't understand your query. Please try again or ask for assistance.\n",
      "> exit\n",
      "Thank you for using JioMart Chatbot. Have a great day!\n"
     ]
    }
   ],
   "source": [
    "def jio_mart_chatbot():\n",
    "    print(\"Welcome to JioMart! How can I assist you today?\")\n",
    "    \n",
    "    while True:\n",
    "        user_input = input(\"> \").lower()\n",
    "        \n",
    "        if user_input == \"exit\":\n",
    "            print(\"Thank you for using JioMart Chatbot. Have a great day!\")\n",
    "            break\n",
    "        \n",
    "        elif \"product availability\" in user_input:\n",
    "            product_name = user_input.split(\"product availability \")[-1]\n",
    "            print(f\"The product '{product_name}' is currently available.\")\n",
    "            \n",
    "        elif \"order tracking\" in user_input:\n",
    "            order_id = user_input.split(\"order tracking \")[-1]\n",
    "            print(f\"The order with ID '{order_id}' is out for delivery.\")\n",
    "            \n",
    "        elif \"contact\" in user_input or \"support\" in user_input:\n",
    "            print(\"For any queries or support, please reach out to our customer support at 1800-XXX-XXXX.\")\n",
    "            \n",
    "        else:\n",
    "            print(\"I'm sorry, but I couldn't understand your query. Please try again or ask for assistance.\")\n",
    "            \n",
    "# Run the chatbot\n",
    "jio_mart_chatbot()\n"
   ]
  },
  {
   "cell_type": "code",
   "execution_count": null,
   "id": "85d69d11",
   "metadata": {},
   "outputs": [],
   "source": []
  }
 ],
 "metadata": {
  "kernelspec": {
   "display_name": "Python 3",
   "language": "python",
   "name": "python3"
  },
  "language_info": {
   "codemirror_mode": {
    "name": "ipython",
    "version": 3
   },
   "file_extension": ".py",
   "mimetype": "text/x-python",
   "name": "python",
   "nbconvert_exporter": "python",
   "pygments_lexer": "ipython3",
   "version": "3.10.9"
  }
 },
 "nbformat": 4,
 "nbformat_minor": 5
}
