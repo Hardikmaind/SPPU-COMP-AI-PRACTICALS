{
 "cells": [
  {
   "cell_type": "code",
   "execution_count": 32,
   "id": "fa8a0db7",
   "metadata": {},
   "outputs": [
    {
     "name": "stdout",
     "output_type": "stream",
     "text": [
      "{1: [2, 5], 2: [1, 3, 4, 5], 3: [2, 4, 6], 4: [2, 3, 5, 6], 5: [1, 2, 4, 6], 6: [3, 4, 5]}\n"
     ]
    }
   ],
   "source": [
    "ipt=[[1,2],[1,5],[2,3],[2,4],[2,5],[3,4],[3,6],[4,5],[4,6],[5,6]]    #these are the edges\n",
    "\n",
    "graph={}    #this is the empty dictinory\n",
    "n=6  #this is the no of vertices\n",
    "\n",
    "for i in range(1,n+1):\n",
    "    graph[i]=[]   #here we initialised the key (graph[i]) and we assinged empty list to it\n",
    "for (u,v) in ipt:\n",
    "    graph[u].append(v)   #here we append the v values to key u and in below u values to key v\n",
    "    graph[v].append(u)\n",
    "print(graph)    #then we print the dictonary. this is called as adjacency list\n",
    "\n",
    "\n",
    "\n"
   ]
  },
  {
   "cell_type": "code",
   "execution_count": 33,
   "id": "8f08125f",
   "metadata": {},
   "outputs": [
    {
     "name": "stdout",
     "output_type": "stream",
     "text": [
      "5\n",
      "1\n",
      "2\n",
      "3\n",
      "4\n",
      "6\n"
     ]
    }
   ],
   "source": [
    "\n",
    "visited = set() \n",
    "\n",
    "def dfs(visited, graph, node):\n",
    "    if node not in visited:\n",
    "        print (node)\n",
    "        visited.add(node)\n",
    "        for neighbour in graph[node]:\n",
    "            dfs(visited, graph, neighbour)\n",
    "\n",
    "dfs(visited, graph, 5)\n",
    "\n"
   ]
  },
  {
   "cell_type": "code",
   "execution_count": 34,
   "id": "b15ea1d7",
   "metadata": {},
   "outputs": [
    {
     "name": "stdout",
     "output_type": "stream",
     "text": [
      "{1: [2, 5], 2: [1, 3, 4, 5], 3: [2, 4, 6], 4: [2, 3, 5, 6], 5: [1, 2, 4, 6], 6: [3, 4, 5]}\n",
      "1\n",
      "2\n",
      "5\n",
      "3\n",
      "4\n",
      "6\n"
     ]
    }
   ],
   "source": [
    "ipt = [[1, 2], [1, 5], [2, 3], [2, 4], [2, 5], [3, 4], [3, 6], [4, 5], [4, 6], [5, 6]]  # these are the edges\n",
    "\n",
    "graph = {}  # this is the empty dictionary\n",
    "n = 6  # this is the number of vertices\n",
    "\n",
    "for i in range(1, n + 1):\n",
    "    graph[i] = []  # here we initialize the key (graph[i]) and assign an empty list to it\n",
    "\n",
    "for u, v in ipt:\n",
    "    graph[u].append(v)  # here we append the v values to key u and in below u values to key v\n",
    "    graph[v].append(u)\n",
    "\n",
    "print(graph)  # then we print the dictionary. This is called the adjacency list\n",
    "\n",
    "visited = {}\n",
    "\n",
    "\n",
    "def bfs(graph, visited):\n",
    "    queue = []\n",
    "    answer = []\n",
    "    queue.append(1)\n",
    "    visited[1] = True\n",
    "    while queue:\n",
    "        temp = queue.pop(0)\n",
    "        print(temp)\n",
    "        for child in graph[temp]:\n",
    "            if child not in visited or not visited[child]:\n",
    "                queue.append(child)\n",
    "                visited[child] = True\n",
    "\n",
    "\n",
    "bfs(graph, visited)\n",
    "\n"
   ]
  },
  {
   "cell_type": "code",
   "execution_count": null,
   "id": "d1472482",
   "metadata": {},
   "outputs": [],
   "source": []
  }
 ],
 "metadata": {
  "kernelspec": {
   "display_name": "Python 3",
   "language": "python",
   "name": "python3"
  },
  "language_info": {
   "codemirror_mode": {
    "name": "ipython",
    "version": 3
   },
   "file_extension": ".py",
   "mimetype": "text/x-python",
   "name": "python",
   "nbconvert_exporter": "python",
   "pygments_lexer": "ipython3",
   "version": "3.10.9"
  }
 },
 "nbformat": 4,
 "nbformat_minor": 5
}
